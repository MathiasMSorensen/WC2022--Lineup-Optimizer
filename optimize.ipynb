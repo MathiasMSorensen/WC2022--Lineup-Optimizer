{
 "cells": [
  {
   "cell_type": "code",
   "execution_count": 1,
   "metadata": {},
   "outputs": [],
   "source": [
    "%load_ext autoreload\n",
    "%autoreload 2\n",
    "\n",
    "from common.utils.optimization import Pulp_optimization\n",
    "import pandas as pd"
   ]
  },
  {
   "cell_type": "code",
   "execution_count": 2,
   "metadata": {},
   "outputs": [],
   "source": [
    "df_holdet = pd.read_csv(\"common/ressources/df_holdet\")"
   ]
  },
  {
   "cell_type": "code",
   "execution_count": 5,
   "metadata": {},
   "outputs": [
    {
     "name": "stdout",
     "output_type": "stream",
     "text": [
      "Casemiro,Team = Brasilien, xPoints = 102520, Cost = 5000000\n",
      "Harry Kane,Team = England, xPoints = 110072, Cost = 9000000\n",
      "Mason Mount,Team = England, xPoints = 87360, Cost = 5000000\n",
      "Kingsley Coman,Team = Frankrig, xPoints = 95802, Cost = 5000000\n",
      "Leandro Paredes,Team = Argentina, xPoints = 106965, Cost = 4500000\n",
      "Abdulelah Al-Amri,Team = Saudi-Arabien, xPoints = 542176, Cost = 2500000\n",
      "Abdullah Madu,Team = Saudi-Arabien, xPoints = 532103, Cost = 2500000\n",
      "Hossein Kanaani,Team = Iran, xPoints = 523270, Cost = 3000000\n",
      "Seyed Hossein Hosseini,Team = Iran, xPoints = 816844, Cost = 2500000\n",
      "Milad Mohammadi,Team = Iran, xPoints = 542047, Cost = 2500000\n",
      "Omid Noorafkan,Team = Iran, xPoints = 517273, Cost = 2500000\n",
      "\n",
      "Captain: Seyed Hossein Hosseini\n",
      "\n",
      "Expected points in this round = 4793276\n",
      "\n",
      "Transfer cost = 0 \n",
      "Total cost = 44000000 \n",
      "Budget = 50000000 \n",
      "Share = 88.0% \n",
      "Bank = 6000000\n",
      "\n",
      "Sell:\n",
      "\n",
      "Buy:\n",
      "[0]\n"
     ]
    }
   ],
   "source": [
    "Squad, Squad_Team, Squad_xPoints, Squad_Position, Squad_Captain, Budget, TransferCost, nShare, Squad_xPoints, buy_list, sell_list,  buy_list_position, \\\n",
    "buy_list_team, buy_list_xPoints, sell_list_team, sell_list_position, sell_list_xPoints = Pulp_optimization(df_holdet[\"country\"], len(df_holdet), \"\", df_holdet[\"price\"], [], df_holdet[\"Exptectred_points\"], list(df_holdet[\"position\"]), [], [], [], [],50000000, df_holdet[\"name1\"], df_holdet[\"Exptectred_points\"])"
   ]
  }
 ],
 "metadata": {
  "kernelspec": {
   "display_name": "Python 3.7.9 64-bit",
   "language": "python",
   "name": "python3"
  },
  "language_info": {
   "codemirror_mode": {
    "name": "ipython",
    "version": 3
   },
   "file_extension": ".py",
   "mimetype": "text/x-python",
   "name": "python",
   "nbconvert_exporter": "python",
   "pygments_lexer": "ipython3",
   "version": "3.7.9"
  },
  "orig_nbformat": 4,
  "vscode": {
   "interpreter": {
    "hash": "548bebda6a0db2652a689e304cb19a8a55293bc3af81438106940bc6d9b9dcf4"
   }
  }
 },
 "nbformat": 4,
 "nbformat_minor": 2
}
