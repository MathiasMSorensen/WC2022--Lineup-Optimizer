{
 "cells": [
  {
   "cell_type": "code",
   "execution_count": 74,
   "metadata": {},
   "outputs": [
    {
     "name": "stdout",
     "output_type": "stream",
     "text": [
      "The autoreload extension is already loaded. To reload it, use:\n",
      "  %reload_ext autoreload\n"
     ]
    }
   ],
   "source": [
    "%load_ext autoreload\n",
    "%autoreload 2\n",
    "\n",
    "from common.utils.optimization import Pulp_optimization\n",
    "import pandas as pd"
   ]
  },
  {
   "cell_type": "code",
   "execution_count": 75,
   "metadata": {},
   "outputs": [],
   "source": [
    "df_holdet = pd.read_csv(\"common/ressources/df_holdet\")"
   ]
  },
  {
   "cell_type": "code",
   "execution_count": 78,
   "metadata": {},
   "outputs": [
    {
     "name": "stdout",
     "output_type": "stream",
     "text": [
      "John Stones,Team = England, xPoints = 112017, Cost = 3500000\n",
      "Emiliano Martinez,Team = Argentina, xPoints = 114312, Cost = 5500000\n",
      "Nahuel Molina,Team = Argentina, xPoints = 125539, Cost = 4500000\n",
      "Cody Gakpo,Team = Holland, xPoints = 176146, Cost = 4500000\n",
      "Kevin De Bruyne,Team = Belgien, xPoints = 172590, Cost = 7500000\n",
      "Jamal Musiala,Team = Tyskland, xPoints = 136980, Cost = 4000000\n",
      "Alvaro Morata,Team = Spanien, xPoints = 190322, Cost = 5500000\n",
      "Ferran Torres,Team = Spanien, xPoints = 206096, Cost = 5500000\n",
      "Daniel Carvajal,Team = Spanien, xPoints = 122865, Cost = 3500000\n",
      "Jose Luis Gaya,Team = Spanien, xPoints = 136427, Cost = 3000000\n",
      "Angel Mena,Team = Ecuador, xPoints = 117548, Cost = 3000000\n",
      "\n",
      "Captain: Ferran Torres\n",
      "\n",
      "Expected points in this round = 1816938\n",
      "\n",
      "Transfer cost = 0 \n",
      "Total cost = 50000000 \n",
      "Budget = 50000000 \n",
      "Share = 100.0% \n",
      "Bank = 0\n",
      "\n",
      "Sell:\n",
      "\n",
      "Buy:\n",
      "[10]\n"
     ]
    }
   ],
   "source": [
    "Squad, Squad_Team, Squad_xPoints, Squad_Position, Squad_Captain, Budget, TransferCost, nShare, Squad_xPoints, buy_list, sell_list,  buy_list_position, \\\n",
    "buy_list_team, buy_list_xPoints, sell_list_team, sell_list_position, sell_list_xPoints = Pulp_optimization(df_holdet[\"country\"], len(df_holdet), \"\", df_holdet[\"price\"], [], df_holdet[\"E_points_total\"], list(df_holdet[\"position\"]), [], [], [], [],50000000, df_holdet[\"name1\"], df_holdet[\"E_points_total\"])"
   ]
  },
  {
   "cell_type": "code",
   "execution_count": 8,
   "metadata": {},
   "outputs": [
    {
     "name": "stdout",
     "output_type": "stream",
     "text": [
      "Requirement already satisfied: html5lib in c:\\users\\mathias\\miniconda3\\lib\\site-packages (1.1)\n",
      "Requirement already satisfied: webencodings in c:\\users\\mathias\\miniconda3\\lib\\site-packages (from html5lib) (0.5.1)\n",
      "Requirement already satisfied: six>=1.9 in c:\\users\\mathias\\miniconda3\\lib\\site-packages (from html5lib) (1.16.0)\n"
     ]
    }
   ],
   "source": [
    "!pip install html5lib   "
   ]
  },
  {
   "cell_type": "code",
   "execution_count": 70,
   "metadata": {},
   "outputs": [],
   "source": [
    "\n",
    "import mechanize\n",
    "import html5lib\n",
    "from http.cookiejar import LWPCookieJar\n",
    "import requests\n",
    "import json\n",
    "import pandas as pd\n",
    "browser = mechanize.Browser()\n",
    "cj = LWPCookieJar()\n",
    "browser.set_cookiejar(cj)\n",
    "browser.set_handle_equiv(True)\n",
    "browser.set_handle_redirect(True)\n",
    "browser.set_handle_robots(False)\n",
    "browser.set_handle_refresh(mechanize._http.HTTPRefreshProcessor(), max_time=1)\n",
    "browser.open('http://www.rotowire.com/users/loginnow.htm')\n",
    "browser.select_form(nr = 0)\n",
    "browser.form['username'] = 'mklarskov'\n",
    "browser.form['password'] = 'mads1234'\n",
    "browser.submit()\n",
    "url = browser.open('https://www.rotowire.com/soccer/tables/projections.php?position=All&league=WOC&type=weekly&myLeagueID=0')\n",
    "json_file_rw = url.read()\n",
    "\n",
    "js_read = json.loads(json_file_rw.decode('utf-8'))\n",
    "rw_data = pd.DataFrame(js_read)\n",
    "\n",
    "rw = rw_data[['player', 'team',  'opp','position', 'minutes', 'goals', 'assists', 'shots', 'sog', 'chancecreated',\\\n",
    "        'passes', 'totalpasses', 'crosses', 'accucrosses', 'aerials','dribbles', 'dispossessed','int','tackles',\\\n",
    "        'tackleswon', 'blocks','clearances', 'cleansheet', 'goalsconc', 'saves', 'fouldrawn','foulscommit', 'yellowcard', 'redcard']]\n",
    "\n",
    "rw.columns = ['Player', 'Team', 'Opp', 'Pos', 'MIN', 'G', 'A', 'S', 'SOG', 'CC', 'P',\n",
    "        'AP', 'CR', 'ACR', 'AW', 'DR', 'DSP', 'INT', 'TKL', 'TKLW', 'BLK', 'CL',\n",
    "        'CS', 'GC', 'SV', 'FS', 'FC', 'Y', 'R']"
   ]
  },
  {
   "cell_type": "code",
   "execution_count": 71,
   "metadata": {},
   "outputs": [
    {
     "data": {
      "text/plain": [
       "ECU    11\n",
       "CMR    11\n",
       "CRC    11\n",
       "TUN    11\n",
       "KSA    11\n",
       "JPN    11\n",
       "CAN    11\n",
       "SEN    11\n",
       "IRN    11\n",
       "MAR    11\n",
       "QAT    11\n",
       "SRB    11\n",
       "KOR    11\n",
       "AUS    11\n",
       "ENG    11\n",
       "ARG    11\n",
       "BEL    11\n",
       "SUI    11\n",
       "DEN    11\n",
       "POR    11\n",
       "POL    11\n",
       "CRO    11\n",
       "BRA    10\n",
       "URU    10\n",
       "MEX    10\n",
       "GHA    10\n",
       "WAL    10\n",
       "FRA    10\n",
       "GER     9\n",
       "ESP     9\n",
       "USA     8\n",
       "NED     8\n",
       "Name: Team, dtype: int64"
      ]
     },
     "execution_count": 71,
     "metadata": {},
     "output_type": "execute_result"
    }
   ],
   "source": [
    "rw[\"Team\"].value_counts()"
   ]
  },
  {
   "cell_type": "code",
   "execution_count": 15,
   "metadata": {},
   "outputs": [],
   "source": [
    "from common.utils.holdet_utils import get_holdet_data\n",
    "import difflib \n",
    "df_holdet = get_holdet_data()"
   ]
  },
  {
   "cell_type": "code",
   "execution_count": 20,
   "metadata": {},
   "outputs": [
    {
     "data": {
      "text/plain": [
       "Index(['name1', 'name2', 'name3', 'name4', 'name5', 'name6', 'name7',\n",
       "       'country', 'price', 'position'],\n",
       "      dtype='object')"
      ]
     },
     "execution_count": 20,
     "metadata": {},
     "output_type": "execute_result"
    }
   ],
   "source": [
    "df_holdet.columns"
   ]
  },
  {
   "cell_type": "code",
   "execution_count": 26,
   "metadata": {},
   "outputs": [],
   "source": [
    "df_holdet.reset_index(drop=True, inplace = True)"
   ]
  },
  {
   "cell_type": "code",
   "execution_count": 38,
   "metadata": {},
   "outputs": [
    {
     "name": "stderr",
     "output_type": "stream",
     "text": [
      "C:\\Users\\Mathias\\AppData\\Roaming\\Python\\Python37\\site-packages\\ipykernel_launcher.py:1: SettingWithCopyWarning: \n",
      "A value is trying to be set on a copy of a slice from a DataFrame.\n",
      "Try using .loc[row_indexer,col_indexer] = value instead\n",
      "\n",
      "See the caveats in the documentation: https://pandas.pydata.org/pandas-docs/stable/user_guide/indexing.html#returning-a-view-versus-a-copy\n",
      "  \"\"\"Entry point for launching an IPython kernel.\n",
      "c:\\Users\\Mathias\\AppData\\Local\\Programs\\Python\\Python37\\lib\\site-packages\\pandas\\core\\indexing.py:1817: SettingWithCopyWarning: \n",
      "A value is trying to be set on a copy of a slice from a DataFrame.\n",
      "Try using .loc[row_indexer,col_indexer] = value instead\n",
      "\n",
      "See the caveats in the documentation: https://pandas.pydata.org/pandas-docs/stable/user_guide/indexing.html#returning-a-view-versus-a-copy\n",
      "  self._setitem_single_column(loc, value, pi)\n"
     ]
    }
   ],
   "source": [
    "rw['Player_match'] = \"\"\n",
    "for i in range(len(rw)):\n",
    "    try:\n",
    "        rw.loc[i,'Player_match'] = difflib.get_close_matches(rw.loc[i,'Player'], df_holdet['name1'])[0]\n",
    "    except: \n",
    "        rw.loc[i,'Player_match'] = \"null\"\n",
    "        \n",
    "rw.loc[rw[\"Player\"]==\"Bono\",\"Player_match\"]=\"Yassine 'Bono' Bounou\"\n",
    "rw.loc[rw[\"Player\"]==\"Ez Abde\",\"Player_match\"]=\"Abde Ezzalzouli\"\n",
    "rw.loc[rw[\"Player\"]==\"Hwang Hee-Chan\",\"Player_match\"]=\"Hee-Chan Hwang\"\n",
    "rw.loc[rw[\"Player\"]==\"Hwang In-beom\",\"Player_match\"]=\"In-Beom Hwang\"\n",
    "rw.loc[rw[\"Player\"]==\"Kim Jin-su\",\"Player_match\"]=\"Jin-Su Kim\"\n",
    "rw.loc[rw[\"Player\"]==\"Kim Min-Jae\",\"Player_match\"]=\"Min-jae Kim\"\n",
    "rw.loc[rw[\"Player\"]==\"Roan Roberto Wilson Gordon\",\"Player_match\"]=\"Roan Wilson\"\n"
   ]
  },
  {
   "cell_type": "code",
   "execution_count": 57,
   "metadata": {},
   "outputs": [
    {
     "name": "stderr",
     "output_type": "stream",
     "text": [
      "c:\\Users\\Mathias\\AppData\\Local\\Programs\\Python\\Python37\\lib\\site-packages\\pandas\\core\\indexing.py:1732: SettingWithCopyWarning: \n",
      "A value is trying to be set on a copy of a slice from a DataFrame\n",
      "\n",
      "See the caveats in the documentation: https://pandas.pydata.org/pandas-docs/stable/user_guide/indexing.html#returning-a-view-versus-a-copy\n",
      "  self._setitem_single_block(indexer, value, name)\n",
      "c:\\Users\\Mathias\\AppData\\Local\\Programs\\Python\\Python37\\lib\\site-packages\\pandas\\core\\indexing.py:723: SettingWithCopyWarning: \n",
      "A value is trying to be set on a copy of a slice from a DataFrame\n",
      "\n",
      "See the caveats in the documentation: https://pandas.pydata.org/pandas-docs/stable/user_guide/indexing.html#returning-a-view-versus-a-copy\n",
      "  iloc._setitem_with_indexer(indexer, value, self.name)\n"
     ]
    }
   ],
   "source": [
    "rw.loc[rw[\"Player\"]==\"Bono\",\"Player_match\"]=\"Yassine 'Bono' Bounou\"\n",
    "rw.loc[rw[\"Player\"]==\"Ez Abde\",\"Player_match\"]=\"Abde Ezzalzouli\"\n",
    "rw.loc[rw[\"Player\"]==\"Hwang Hee-Chan\",\"Player_match\"]=\"Hee-Chan Hwang\"\n",
    "rw.loc[rw[\"Player\"]==\"Hwang In-beom\",\"Player_match\"]=\"In-Beom Hwang\"\n",
    "rw.loc[rw[\"Player\"]==\"Kim Jin-su\",\"Player_match\"]=\"Jin-Su Kim\"\n",
    "rw.loc[rw[\"Player\"]==\"Kim Min-Jae\",\"Player_match\"]=\"Min-jae Kim\"\n",
    "rw.loc[rw[\"Player\"]==\"Roan Roberto Wilson Gordon\",\"Player_match\"]=\"Roan Wilson\"\n"
   ]
  },
  {
   "cell_type": "code",
   "execution_count": 45,
   "metadata": {},
   "outputs": [
    {
     "data": {
      "text/html": [
       "<div>\n",
       "<style scoped>\n",
       "    .dataframe tbody tr th:only-of-type {\n",
       "        vertical-align: middle;\n",
       "    }\n",
       "\n",
       "    .dataframe tbody tr th {\n",
       "        vertical-align: top;\n",
       "    }\n",
       "\n",
       "    .dataframe thead th {\n",
       "        text-align: right;\n",
       "    }\n",
       "</style>\n",
       "<table border=\"1\" class=\"dataframe\">\n",
       "  <thead>\n",
       "    <tr style=\"text-align: right;\">\n",
       "      <th></th>\n",
       "      <th>Player</th>\n",
       "      <th>Team</th>\n",
       "      <th>Opp</th>\n",
       "      <th>Pos</th>\n",
       "      <th>MIN</th>\n",
       "      <th>G</th>\n",
       "      <th>A</th>\n",
       "      <th>S</th>\n",
       "      <th>SOG</th>\n",
       "      <th>CC</th>\n",
       "      <th>...</th>\n",
       "      <th>BLK</th>\n",
       "      <th>CL</th>\n",
       "      <th>CS</th>\n",
       "      <th>GC</th>\n",
       "      <th>SV</th>\n",
       "      <th>FS</th>\n",
       "      <th>FC</th>\n",
       "      <th>Y</th>\n",
       "      <th>R</th>\n",
       "      <th>Player_match</th>\n",
       "    </tr>\n",
       "  </thead>\n",
       "  <tbody>\n",
       "    <tr>\n",
       "      <th>117</th>\n",
       "      <td>Roan Roberto Wilson Gordon</td>\n",
       "      <td>CRC</td>\n",
       "      <td>ESP</td>\n",
       "      <td>F</td>\n",
       "      <td>90</td>\n",
       "      <td>0.11</td>\n",
       "      <td>0.05</td>\n",
       "      <td>1.20</td>\n",
       "      <td>0.37</td>\n",
       "      <td>0.65</td>\n",
       "      <td>...</td>\n",
       "      <td>0.11</td>\n",
       "      <td>0.72</td>\n",
       "      <td>0.08</td>\n",
       "      <td>2.60</td>\n",
       "      <td>0.00</td>\n",
       "      <td>0.83</td>\n",
       "      <td>0.84</td>\n",
       "      <td>0.07</td>\n",
       "      <td>0.00</td>\n",
       "      <td>null</td>\n",
       "    </tr>\n",
       "    <tr>\n",
       "      <th>179</th>\n",
       "      <td>Hwang Hee-Chan</td>\n",
       "      <td>KOR</td>\n",
       "      <td>URU</td>\n",
       "      <td>F</td>\n",
       "      <td>90</td>\n",
       "      <td>0.05</td>\n",
       "      <td>0.10</td>\n",
       "      <td>1.64</td>\n",
       "      <td>0.68</td>\n",
       "      <td>0.63</td>\n",
       "      <td>...</td>\n",
       "      <td>0.00</td>\n",
       "      <td>0.41</td>\n",
       "      <td>0.14</td>\n",
       "      <td>2.08</td>\n",
       "      <td>0.00</td>\n",
       "      <td>2.06</td>\n",
       "      <td>1.70</td>\n",
       "      <td>0.24</td>\n",
       "      <td>0.00</td>\n",
       "      <td>null</td>\n",
       "    </tr>\n",
       "    <tr>\n",
       "      <th>191</th>\n",
       "      <td>Ez Abde</td>\n",
       "      <td>MAR</td>\n",
       "      <td>CRO</td>\n",
       "      <td>F</td>\n",
       "      <td>90</td>\n",
       "      <td>0.05</td>\n",
       "      <td>0.15</td>\n",
       "      <td>1.62</td>\n",
       "      <td>0.40</td>\n",
       "      <td>0.71</td>\n",
       "      <td>...</td>\n",
       "      <td>0.00</td>\n",
       "      <td>0.21</td>\n",
       "      <td>0.14</td>\n",
       "      <td>2.08</td>\n",
       "      <td>0.00</td>\n",
       "      <td>1.64</td>\n",
       "      <td>1.67</td>\n",
       "      <td>0.34</td>\n",
       "      <td>0.00</td>\n",
       "      <td>null</td>\n",
       "    </tr>\n",
       "    <tr>\n",
       "      <th>206</th>\n",
       "      <td>Kim Min-Jae</td>\n",
       "      <td>KOR</td>\n",
       "      <td>URU</td>\n",
       "      <td>D</td>\n",
       "      <td>90</td>\n",
       "      <td>0.04</td>\n",
       "      <td>0.00</td>\n",
       "      <td>0.30</td>\n",
       "      <td>0.05</td>\n",
       "      <td>0.14</td>\n",
       "      <td>...</td>\n",
       "      <td>1.06</td>\n",
       "      <td>5.01</td>\n",
       "      <td>0.14</td>\n",
       "      <td>2.08</td>\n",
       "      <td>0.00</td>\n",
       "      <td>0.28</td>\n",
       "      <td>0.49</td>\n",
       "      <td>0.10</td>\n",
       "      <td>0.00</td>\n",
       "      <td>null</td>\n",
       "    </tr>\n",
       "    <tr>\n",
       "      <th>226</th>\n",
       "      <td>Kim Jin-su</td>\n",
       "      <td>KOR</td>\n",
       "      <td>URU</td>\n",
       "      <td>D</td>\n",
       "      <td>90</td>\n",
       "      <td>0.03</td>\n",
       "      <td>0.01</td>\n",
       "      <td>0.46</td>\n",
       "      <td>0.11</td>\n",
       "      <td>0.18</td>\n",
       "      <td>...</td>\n",
       "      <td>0.79</td>\n",
       "      <td>4.37</td>\n",
       "      <td>0.14</td>\n",
       "      <td>2.08</td>\n",
       "      <td>0.00</td>\n",
       "      <td>0.55</td>\n",
       "      <td>1.02</td>\n",
       "      <td>0.32</td>\n",
       "      <td>0.02</td>\n",
       "      <td>null</td>\n",
       "    </tr>\n",
       "    <tr>\n",
       "      <th>277</th>\n",
       "      <td>Bono</td>\n",
       "      <td>MAR</td>\n",
       "      <td>CRO</td>\n",
       "      <td>G</td>\n",
       "      <td>90</td>\n",
       "      <td>0.01</td>\n",
       "      <td>0.01</td>\n",
       "      <td>0.01</td>\n",
       "      <td>0.00</td>\n",
       "      <td>0.02</td>\n",
       "      <td>...</td>\n",
       "      <td>0.00</td>\n",
       "      <td>1.21</td>\n",
       "      <td>0.14</td>\n",
       "      <td>2.08</td>\n",
       "      <td>3.11</td>\n",
       "      <td>0.06</td>\n",
       "      <td>0.01</td>\n",
       "      <td>0.10</td>\n",
       "      <td>0.00</td>\n",
       "      <td>null</td>\n",
       "    </tr>\n",
       "    <tr>\n",
       "      <th>296</th>\n",
       "      <td>Hwang In-beom</td>\n",
       "      <td>KOR</td>\n",
       "      <td>URU</td>\n",
       "      <td>M</td>\n",
       "      <td>90</td>\n",
       "      <td>0.00</td>\n",
       "      <td>0.05</td>\n",
       "      <td>0.41</td>\n",
       "      <td>0.07</td>\n",
       "      <td>0.70</td>\n",
       "      <td>...</td>\n",
       "      <td>0.55</td>\n",
       "      <td>1.40</td>\n",
       "      <td>0.14</td>\n",
       "      <td>2.08</td>\n",
       "      <td>0.00</td>\n",
       "      <td>0.90</td>\n",
       "      <td>1.23</td>\n",
       "      <td>0.00</td>\n",
       "      <td>0.00</td>\n",
       "      <td>null</td>\n",
       "    </tr>\n",
       "  </tbody>\n",
       "</table>\n",
       "<p>7 rows × 30 columns</p>\n",
       "</div>"
      ],
      "text/plain": [
       "                         Player Team  Opp Pos MIN     G     A     S   SOG  \\\n",
       "117  Roan Roberto Wilson Gordon  CRC  ESP   F  90  0.11  0.05  1.20  0.37   \n",
       "179              Hwang Hee-Chan  KOR  URU   F  90  0.05  0.10  1.64  0.68   \n",
       "191                     Ez Abde  MAR  CRO   F  90  0.05  0.15  1.62  0.40   \n",
       "206                 Kim Min-Jae  KOR  URU   D  90  0.04  0.00  0.30  0.05   \n",
       "226                  Kim Jin-su  KOR  URU   D  90  0.03  0.01  0.46  0.11   \n",
       "277                        Bono  MAR  CRO   G  90  0.01  0.01  0.01  0.00   \n",
       "296               Hwang In-beom  KOR  URU   M  90  0.00  0.05  0.41  0.07   \n",
       "\n",
       "       CC  ...   BLK    CL    CS    GC    SV    FS    FC     Y     R  \\\n",
       "117  0.65  ...  0.11  0.72  0.08  2.60  0.00  0.83  0.84  0.07  0.00   \n",
       "179  0.63  ...  0.00  0.41  0.14  2.08  0.00  2.06  1.70  0.24  0.00   \n",
       "191  0.71  ...  0.00  0.21  0.14  2.08  0.00  1.64  1.67  0.34  0.00   \n",
       "206  0.14  ...  1.06  5.01  0.14  2.08  0.00  0.28  0.49  0.10  0.00   \n",
       "226  0.18  ...  0.79  4.37  0.14  2.08  0.00  0.55  1.02  0.32  0.02   \n",
       "277  0.02  ...  0.00  1.21  0.14  2.08  3.11  0.06  0.01  0.10  0.00   \n",
       "296  0.70  ...  0.55  1.40  0.14  2.08  0.00  0.90  1.23  0.00  0.00   \n",
       "\n",
       "    Player_match  \n",
       "117         null  \n",
       "179         null  \n",
       "191         null  \n",
       "206         null  \n",
       "226         null  \n",
       "277         null  \n",
       "296         null  \n",
       "\n",
       "[7 rows x 30 columns]"
      ]
     },
     "execution_count": 45,
     "metadata": {},
     "output_type": "execute_result"
    }
   ],
   "source": [
    "rw[rw[\"Player_match\"]==\"null\"]\n",
    "\n",
    "\"Yassine 'Bono' Bounou\" == \"Bono\"\n",
    "\"Abde Ezzalzouli\" == \"Ez Abde\"\n",
    "\"Hee-Chan Hwang\" == \"Hwang Hee-Chan\"\n",
    "\"In-Beom Hwang\" == \"Hwang In-beom\"\n",
    "\"Jin-Su Kim\"==\"Kim Jin-su\"\n",
    "\"Min-jae Kim\" == \"Kim Min-Jae\"\n",
    "\"Roan Wilson\" == \"Roan Roberto Wilson Gordon\""
   ]
  }
 ],
 "metadata": {
  "kernelspec": {
   "display_name": "Python 3.7.9 64-bit",
   "language": "python",
   "name": "python3"
  },
  "language_info": {
   "codemirror_mode": {
    "name": "ipython",
    "version": 3
   },
   "file_extension": ".py",
   "mimetype": "text/x-python",
   "name": "python",
   "nbconvert_exporter": "python",
   "pygments_lexer": "ipython3",
   "version": "3.7.9"
  },
  "orig_nbformat": 4,
  "vscode": {
   "interpreter": {
    "hash": "548bebda6a0db2652a689e304cb19a8a55293bc3af81438106940bc6d9b9dcf4"
   }
  }
 },
 "nbformat": 4,
 "nbformat_minor": 2
}
