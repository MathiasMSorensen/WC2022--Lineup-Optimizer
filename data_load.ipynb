{
 "cells": [
  {
   "cell_type": "code",
   "execution_count": 44,
   "metadata": {},
   "outputs": [
    {
     "name": "stdout",
     "output_type": "stream",
     "text": [
      "The autoreload extension is already loaded. To reload it, use:\n",
      "  %reload_ext autoreload\n"
     ]
    }
   ],
   "source": [
    "%load_ext autoreload\n",
    "%autoreload 2\n",
    "\n",
    "import os\n",
    "import oddsapi\n",
    "import requests\n",
    "import joblib\n",
    "import pandas as pd\n",
    "import numpy as np\n",
    "from common.utils.odds_utils import get_tournament_winner_odds, get_group_stage_odds, get_group_stage_OU\n",
    "from common.utils.holdet_utils import get_holdet_data, get_play_off_opps\n",
    "from common.utils.simulation_utils import WorldCupTeam, WorldCupSim\n",
    "from common.utils.group_stage import get_group_stage, playoffs\n",
    "from common.utils.dict_utils import eng2dan\n",
    "from scipy.optimize import fsolve\n",
    "\n",
    "ROUND = 2\n",
    "API_KEY = os.getenv(\"API_KEY\")"
   ]
  },
  {
   "cell_type": "code",
   "execution_count": 79,
   "metadata": {},
   "outputs": [],
   "source": [
    "# load data\n",
    "# df_holdet = get_holdet_data()\n",
    "df_winner = get_tournament_winner_odds(API_KEY)\n",
    "# df_group_stage = get_group_stage_odds(API_KEY)\n",
    "# df_get_group_stage_OU = get_group_stage_OU(API_KEY)\n",
    "# df_groups = pd.read_csv(\"common/ressources/df_groups.csv\")[[\"Team\",\"group\"]]\n",
    "# df_group_stage = df_group_stage[['home_team','away_team','prob1','probx', 'prob2']].merge(df_groups.rename(columns =  {\"Team\":\"home_team\"}), on = \"home_team\")"
   ]
  },
  {
   "cell_type": "code",
   "execution_count": 52,
   "metadata": {},
   "outputs": [],
   "source": [
    "_df_group_stage = get_group_stage(df_get_group_stage_OU.copy(), df_group_stage.copy(), ROUND, eng2dan)"
   ]
  },
  {
   "cell_type": "code",
   "execution_count": 56,
   "metadata": {},
   "outputs": [],
   "source": [
    "# random shit\n",
    "df_holdet[\"selected\"]=False\n",
    "for team in df_holdet[\"country\"].unique():\n",
    "    df_temp = df_holdet[df_holdet[\"country\"]==team]\n",
    "    df_temp.sort_values(\"price\", ascending = False)\n",
    "    df_holdet.loc[df_holdet[\"name1\"].isin(df_temp.reset_index().loc[0:11,\"name1\"]),\"selected\"]=True\n",
    "    \n",
    "df_holdet[\"G\"] = np.random.uniform(0,1,len(df_holdet))\n",
    "df_holdet[\"A\"] = np.random.uniform(0,1,len(df_holdet))\n",
    "df_holdet[\"Yellow\"] = np.random.uniform(0,1,len(df_holdet))\n",
    "df_holdet[\"Red\"] = np.random.uniform(0,1,len(df_holdet))"
   ]
  },
  {
   "cell_type": "code",
   "execution_count": 57,
   "metadata": {},
   "outputs": [],
   "source": [
    "for round in [str(_) for _ in range(ROUND,4)]:\n",
    "    df_temp1 = df_holdet[[\"name1\",\"name2\",\"country\"]].merge(_df_group_stage.loc[_df_group_stage[\"round\"]==round,[\"home_team\",\"prob1\",\"probx\",\"prob2\",\"xGH\",\"xGA\"]].rename(columns = {\"home_team\":\"country\"}), on = \"country\")\n",
    "    df_temp1.rename(columns = {\"prob1\":f\"prob_winning_{round}\",\"probx\":f\"prob_draw_{round}\",\"prob2\":f\"prob_lose_{round}\",\"xGH\":f\"E_goals_{round}\",\"xGA\":f\"E_goals_against_{round}\"}, inplace = True)\n",
    "\n",
    "    df_temp2 = df_holdet[[\"name1\",\"name2\",\"country\"]].merge(_df_group_stage.loc[_df_group_stage[\"round\"]==round,[\"away_team\",\"prob1\",\"probx\",\"prob2\",\"xGH\",\"xGA\"]].rename(columns = {\"away_team\":\"country\"}), on = \"country\")\n",
    "    df_temp2.rename(columns = {\"prob1\":f\"prob_lose_{round}\",\"probx\":f\"prob_draw_{round}\",\"prob2\":f\"prob_winning_{round}\",\"xGA\":f\"E_goals_{round}\",\"xGH\":f\"E_goals_against_{round}\"}, inplace = True)\n",
    "\n",
    "    df_temp_temp = pd.concat([df_temp1,df_temp2],axis=0)\n",
    "    df_holdet = df_holdet.merge(df_temp_temp, on = [\"name1\",\"name2\",\"country\"])"
   ]
  },
  {
   "cell_type": "code",
   "execution_count": 86,
   "metadata": {},
   "outputs": [],
   "source": [
    "df_winner  = playoffs(df_winner.copy(),_df_group_stage.copy(), eng2dan)"
   ]
  },
  {
   "cell_type": "code",
   "execution_count": 87,
   "metadata": {},
   "outputs": [],
   "source": [
    "df_holdet = df_holdet.merge(df_winner[['country','R16_prob', 'QF_prob', 'SF_prob', 'Final_prob', 'W_prob',\n",
    "                                       'prob_to_win_R16', 'prob_to_win_QF', 'prob_to_win_SF','prob_to_win_Final', \n",
    "                                       'xG_R16', 'xG_QF', 'xG_SF', 'xG_Final','xGa_R16', 'xGa_QF', 'xGa_SF', 'xGa_Final']], on = \"country\")"
   ]
  },
  {
   "cell_type": "code",
   "execution_count": 90,
   "metadata": {},
   "outputs": [],
   "source": [
    "for country in df_holdet[\"country\"].unique():\n",
    "    xG_sum = df_holdet.loc[(df_holdet[\"country\"]==country) & (df_holdet[\"selected\"]),'G'].sum()\n",
    "    xA_sum = df_holdet.loc[(df_holdet[\"country\"]==country) & (df_holdet[\"selected\"]),'A'].sum()\n",
    "    df_holdet.loc[(df_holdet[\"country\"]==country) & (df_holdet[\"selected\"]),'G_share'] = df_holdet.loc[(df_holdet[\"country\"]==country) & (df_holdet[\"selected\"]),'G']/xG_sum\n",
    "    df_holdet.loc[(df_holdet[\"country\"]==country) & (df_holdet[\"selected\"]),'A_share'] = df_holdet.loc[(df_holdet[\"country\"]==country) & (df_holdet[\"selected\"]),'G']/xA_sum\n",
    "\n",
    "    df_holdet.loc[(df_holdet[\"country\"]==country) & (~df_holdet[\"selected\"]),\"Exptectred_points\"] = -5000\n",
    "    for player in df_holdet.loc[(df_holdet[\"country\"]==country) & (df_holdet[\"selected\"]),\"name1\"]:\n",
    "        points = 0\n",
    "        goal_share = df_holdet.loc[df_holdet[\"name1\"]==player,\"G_share\"].values[0]\n",
    "        assist_share = df_holdet.loc[df_holdet[\"name1\"]==player,\"A_share\"].values[0]\n",
    "        yellow_prob = df_holdet.loc[df_holdet[\"name1\"]==player,f'Yellow'].values[0]\n",
    "        red_prob = df_holdet.loc[df_holdet[\"name1\"]==player,f'Red'].values[0]\n",
    "        # group games\n",
    "        loop = 4\n",
    "        for i in range(ROUND,loop):\n",
    "            points += 7000**(1/(i-ROUND+1))\n",
    "            points += df_holdet.loc[df_holdet[\"name1\"]==player,f'prob_winning_{i}'].values[0]*25000**(1/(i-ROUND+1))\n",
    "            points += df_holdet.loc[df_holdet[\"name1\"]==player,f'prob_draw_{i}'].values[0]*5000**(1/(i-ROUND+1))\n",
    "            points += df_holdet.loc[df_holdet[\"name1\"]==player,f'prob_lose_{i}'].values[0]*-15000**(1/(i-ROUND+1))\n",
    "            points += df_holdet.loc[df_holdet[\"name1\"]==player,f'E_goals_{i}'].values[0]*10000**(1/(i-ROUND+1))\n",
    "            points += df_holdet.loc[df_holdet[\"name1\"]==player,f'E_goals_against_{i}'].values[0]*-10000**(1/(i-ROUND+1))\n",
    "            points += yellow_prob * -20000**(1/(i-ROUND+1))\n",
    "            points += yellow_prob*yellow_prob*-20000**(1/(i-ROUND+1))\n",
    "            points += red_prob * -50000**(1/(i-ROUND+1))\n",
    "            if i == loop:\n",
    "                for idx, game in enumerate([\"R16\",\"QF\",\"SF\",\"Final\"]):\n",
    "                    prob = df_holdet.loc[df_holdet[\"name1\"]==player,f'{game}_prob'].values[0]\n",
    "                    factor = 1/(2*(loop+idx))\n",
    "                    points += 7000**factor\n",
    "                    points += prob*np.exp(-df_holdet.loc[df_holdet[\"name1\"]==player,f'xGa_{game}'].values[0])*-10000**factor\n",
    "                    points += prob*df_holdet.loc[df_holdet[\"name1\"]==player,f'prob_to_win_{game}'].values[0]*25000**factor\n",
    "                    points += prob*(1-df_holdet.loc[df_holdet[\"name1\"]==player,f'prob_to_win_{game}'].values[0])*-15000**factor\n",
    "                    points += prob*yellow_prob * -20000**factor\n",
    "                    points += prob*yellow_prob*yellow_prob*-20000**factor\n",
    "                    points += prob*df_holdet.loc[df_holdet[\"name1\"]==player,f'xG_{game}'].values[0]*10000**factor\n",
    "                    points += prob*red_prob * -50000**factor\n",
    "                    \n",
    "            if df_holdet.loc[df_holdet[\"name1\"]==player,\"position\"].values[0]==\"Mål\":\n",
    "                points += np.exp(df_holdet.loc[df_holdet[\"name1\"]==player,f'E_goals_against_{i}'].values[0])*75000**(1/(i-ROUND+1))\n",
    "                if i == loop:\n",
    "                    for idx, game in enumerate([\"R16\",\"QF\",\"SF\",\"Final\"]):\n",
    "                        prob = df_holdet.loc[df_holdet[\"name1\"]==player,f'{game}_prob'].values[0]\n",
    "                        factor = 1/(2*(loop+idx))\n",
    "                        points += prob*np.exp(-df_holdet.loc[df_holdet[\"name1\"]==player,f'xGa_{game}'].values[0])*75000**factor\n",
    "                        \n",
    "            elif df_holdet.loc[df_holdet[\"name1\"]==player,\"position\"].values[0]==\"Forsvar\":\n",
    "                points += np.exp(-df_holdet.loc[df_holdet[\"name1\"]==player,f'E_goals_against_{i}'].values[0])*50000**(1/(i-ROUND+1))\n",
    "                points += goal_share*df_holdet.loc[df_holdet[\"name1\"]==player,f'E_goals_{i}'].values[0]*175000**(1/(i-ROUND+1))\n",
    "                points += assist_share*df_holdet.loc[df_holdet[\"name1\"]==player,f'E_goals_{i}'].values[0]*60000**(1/(i-ROUND+1))\n",
    "                if i == loop:\n",
    "                    for idx, game in enumerate([\"R16\",\"QF\",\"SF\",\"Final\"]):\n",
    "                        prob = df_holdet.loc[df_holdet[\"name1\"]==player,f'{game}_prob'].values[0]\n",
    "                        factor = 1/(2*(loop+idx))\n",
    "                        points += prob*np.exp(-df_holdet.loc[df_holdet[\"name1\"]==player,f'xG_{game}'].values[0])*50000**factor\n",
    "                        points += prob*goal_share*np.exp(-df_holdet.loc[df_holdet[\"name1\"]==player,f'xG_{game}'].values[0])*175000**factor\n",
    "                        points += prob*assist_share**np.exp(-df_holdet.loc[df_holdet[\"name1\"]==player,f'xG_{game}'].values[0])*60000**factor\n",
    "                        \n",
    "            elif df_holdet.loc[df_holdet[\"name1\"]==player,\"position\"].values[0]==\"Midtbane\":\n",
    "                points += goal_share*df_holdet.loc[df_holdet[\"name1\"]==player,f'E_goals_{i}'].values[0]*150000**(1/(i-ROUND+1))\n",
    "                points += assist_share*df_holdet.loc[df_holdet[\"name1\"]==player,f'E_goals_{i}'].values[0]*60000**(1/(i-ROUND+1))\n",
    "                if i == loop:\n",
    "                    for idx, game in enumerate([\"R16\",\"QF\",\"SF\",\"Final\"]):\n",
    "                        prob = df_holdet.loc[df_holdet[\"name1\"]==player,f'{game}_prob'].values[0]\n",
    "                        factor = 1/(2*(loop+idx))\n",
    "                        points += prob*goal_share*np.exp(-df_holdet.loc[df_holdet[\"name1\"]==player,f'xG_{game}'].values[0])*150000**factor\n",
    "                        points += prob*assist_share**np.exp(-df_holdet.loc[df_holdet[\"name1\"]==player,f'xG_{game}'].values[0])*60000**factor\n",
    "                        \n",
    "            elif df_holdet.loc[df_holdet[\"name1\"]==player,\"position\"].values[0]==\"Angreb\":\n",
    "                points += goal_share*df_holdet.loc[df_holdet[\"name1\"]==player,f'E_goals_{i}'].values[0]*125000**(1/(i-ROUND+1))\n",
    "                points += assist_share*df_holdet.loc[df_holdet[\"name1\"]==player,f'E_goals_{i}'].values[0]*60000**(1/(i-ROUND+1))\n",
    "                if i == loop:\n",
    "                    for idx, game in enumerate([\"R16\",\"QF\",\"SF\",\"Final\"]):\n",
    "                        prob = df_holdet.loc[df_holdet[\"name1\"]==player,f'{game}_prob'].values[0]\n",
    "                        factor = 1/(2*(loop+idx))\n",
    "                        points += prob*goal_share*np.exp(-df_holdet.loc[df_holdet[\"name1\"]==player,f'xG_{game}'].values[0])*125000**factor\n",
    "                        points += prob*assist_share**np.exp(-df_holdet.loc[df_holdet[\"name1\"]==player,f'xG_{game}'].values[0])*60000**factor\n",
    "                        \n",
    "        df_holdet.loc[df_holdet[\"name1\"]==player,\"Exptectred_points\"] = points"
   ]
  }
 ],
 "metadata": {
  "kernelspec": {
   "display_name": "Python 3.7.9 64-bit",
   "language": "python",
   "name": "python3"
  },
  "language_info": {
   "codemirror_mode": {
    "name": "ipython",
    "version": 3
   },
   "file_extension": ".py",
   "mimetype": "text/x-python",
   "name": "python",
   "nbconvert_exporter": "python",
   "pygments_lexer": "ipython3",
   "version": "3.7.9"
  },
  "orig_nbformat": 4,
  "vscode": {
   "interpreter": {
    "hash": "548bebda6a0db2652a689e304cb19a8a55293bc3af81438106940bc6d9b9dcf4"
   }
  }
 },
 "nbformat": 4,
 "nbformat_minor": 2
}
