{
 "cells": [
  {
   "cell_type": "code",
   "execution_count": 31,
   "metadata": {},
   "outputs": [
    {
     "name": "stdout",
     "output_type": "stream",
     "text": [
      "The autoreload extension is already loaded. To reload it, use:\n",
      "  %reload_ext autoreload\n"
     ]
    }
   ],
   "source": [
    "%load_ext autoreload\n",
    "%autoreload 2\n",
    "\n",
    "import os\n",
    "import oddsapi\n",
    "import requests\n",
    "import joblib\n",
    "import pandas as pd\n",
    "import numpy as np\n",
    "from common.utils.odds_utils import get_tournament_winner_odds, get_group_stage_odds, get_group_stage_OU\n",
    "from common.utils.holdet_utils import get_holdet_data, get_play_off_opps, get_rw\n",
    "from common.utils.simulation_utils import WorldCupTeam, WorldCupSim\n",
    "from common.utils.group_stage import get_group_stage, playoffs\n",
    "from common.utils.dict_utils import eng2dan\n",
    "from scipy.optimize import fsolve\n",
    "import warnings\n",
    "warnings.filterwarnings('ignore')\n",
    "ROUND = 1\n",
    "API_KEY = os.getenv(\"API_KEY\")"
   ]
  },
  {
   "cell_type": "code",
   "execution_count": 32,
   "metadata": {},
   "outputs": [],
   "source": [
    "# load data\n",
    "df_holdet = get_holdet_data()\n",
    "df_winner = get_tournament_winner_odds(API_KEY)\n",
    "df_group_stage = get_group_stage_odds(API_KEY)\n",
    "df_get_group_stage_OU = get_group_stage_OU(API_KEY)\n",
    "df_groups = pd.read_csv(\"common/ressources/df_groups.csv\")[[\"Team\",\"group\"]]\n",
    "df_group_stage = df_group_stage[['home_team','away_team','prob1','probx', 'prob2']].merge(df_groups.rename(columns =  {\"Team\":\"home_team\"}), on = \"home_team\")"
   ]
  },
  {
   "cell_type": "code",
   "execution_count": 33,
   "metadata": {},
   "outputs": [],
   "source": [
    "_df_group_stage = get_group_stage(df_get_group_stage_OU.copy(), df_group_stage.copy(), ROUND, eng2dan)"
   ]
  },
  {
   "cell_type": "code",
   "execution_count": 34,
   "metadata": {},
   "outputs": [
    {
     "name": "stdout",
     "output_type": "stream",
     "text": [
      "(830, 10)\n",
      "(830, 39)\n",
      "(830, 15)\n"
     ]
    }
   ],
   "source": [
    "df_rw = get_rw(df_holdet)\n",
    "df_rw.rename(columns = {\"Player_match\": \"name1\"}, inplace = True)\n",
    "print(df_holdet.shape)\n",
    "df_holdet = df_holdet.merge(df_rw, on = \"name1\", how =\"left\")\n",
    "print(df_holdet.shape)\n",
    "df_holdet = df_holdet[['name1', 'name2', 'country', 'price', 'position', 'Player', 'Team', 'Opp', 'Pos', 'MIN','G', 'A', 'SOG', 'Y','R']]\n",
    "print(df_holdet.shape)"
   ]
  },
  {
   "cell_type": "code",
   "execution_count": 35,
   "metadata": {},
   "outputs": [
    {
     "data": {
      "text/html": [
       "<div>\n",
       "<style scoped>\n",
       "    .dataframe tbody tr th:only-of-type {\n",
       "        vertical-align: middle;\n",
       "    }\n",
       "\n",
       "    .dataframe tbody tr th {\n",
       "        vertical-align: top;\n",
       "    }\n",
       "\n",
       "    .dataframe thead th {\n",
       "        text-align: right;\n",
       "    }\n",
       "</style>\n",
       "<table border=\"1\" class=\"dataframe\">\n",
       "  <thead>\n",
       "    <tr style=\"text-align: right;\">\n",
       "      <th></th>\n",
       "      <th>name1</th>\n",
       "      <th>name2</th>\n",
       "      <th>country</th>\n",
       "      <th>price</th>\n",
       "      <th>position</th>\n",
       "      <th>Player</th>\n",
       "      <th>Team</th>\n",
       "      <th>Opp</th>\n",
       "      <th>Pos</th>\n",
       "      <th>MIN</th>\n",
       "      <th>G</th>\n",
       "      <th>A</th>\n",
       "      <th>SOG</th>\n",
       "      <th>Y</th>\n",
       "      <th>R</th>\n",
       "    </tr>\n",
       "  </thead>\n",
       "  <tbody>\n",
       "    <tr>\n",
       "      <th>419</th>\n",
       "      <td>Martin Braithwaite</td>\n",
       "      <td>M. Braithwaite</td>\n",
       "      <td>Danmark</td>\n",
       "      <td>3000000.0</td>\n",
       "      <td>Angreb</td>\n",
       "      <td>Martin Braithwaite</td>\n",
       "      <td>DEN</td>\n",
       "      <td>TUN</td>\n",
       "      <td>F</td>\n",
       "      <td>90</td>\n",
       "      <td>0.92</td>\n",
       "      <td>0.26</td>\n",
       "      <td>1.45</td>\n",
       "      <td>0.08</td>\n",
       "      <td>0.01</td>\n",
       "    </tr>\n",
       "  </tbody>\n",
       "</table>\n",
       "</div>"
      ],
      "text/plain": [
       "                  name1           name2  country      price position  \\\n",
       "419  Martin Braithwaite  M. Braithwaite  Danmark  3000000.0   Angreb   \n",
       "\n",
       "                 Player Team  Opp Pos MIN     G     A   SOG     Y     R  \n",
       "419  Martin Braithwaite  DEN  TUN   F  90  0.92  0.26  1.45  0.08  0.01  "
      ]
     },
     "execution_count": 35,
     "metadata": {},
     "output_type": "execute_result"
    }
   ],
   "source": [
    "df_holdet[df_holdet[\"name1\"]==\"Martin Braithwaite\",]"
   ]
  },
  {
   "cell_type": "code",
   "execution_count": 26,
   "metadata": {},
   "outputs": [],
   "source": [
    "for round in [str(_) for _ in range(ROUND,4)]:\n",
    "    df_temp1 = df_holdet[[\"name1\",\"name2\",\"country\"]].merge(_df_group_stage.loc[_df_group_stage[\"round\"]==round,[\"home_team\",\"prob1\",\"probx\",\"prob2\",\"xGH\",\"xGA\"]].rename(columns = {\"home_team\":\"country\"}), on = \"country\")\n",
    "    df_temp1.rename(columns = {\"prob1\":f\"prob_winning_{round}\",\"probx\":f\"prob_draw_{round}\",\"prob2\":f\"prob_lose_{round}\",\"xGH\":f\"E_goals_{round}\",\"xGA\":f\"E_goals_against_{round}\"}, inplace = True)\n",
    "\n",
    "    df_temp2 = df_holdet[[\"name1\",\"name2\",\"country\"]].merge(_df_group_stage.loc[_df_group_stage[\"round\"]==round,[\"away_team\",\"prob1\",\"probx\",\"prob2\",\"xGH\",\"xGA\"]].rename(columns = {\"away_team\":\"country\"}), on = \"country\")\n",
    "    df_temp2.rename(columns = {\"prob1\":f\"prob_lose_{round}\",\"probx\":f\"prob_draw_{round}\",\"prob2\":f\"prob_winning_{round}\",\"xGA\":f\"E_goals_{round}\",\"xGH\":f\"E_goals_against_{round}\"}, inplace = True)\n",
    "\n",
    "    df_temp_temp = pd.concat([df_temp1,df_temp2],axis=0)\n",
    "    df_holdet = df_holdet.merge(df_temp_temp, on = [\"name1\",\"name2\",\"country\"])"
   ]
  },
  {
   "cell_type": "code",
   "execution_count": 27,
   "metadata": {},
   "outputs": [],
   "source": [
    "df_winner  = playoffs(df_winner.copy(),_df_group_stage.copy(), eng2dan)\n",
    "df_holdet = df_holdet.merge(df_winner[['country','R16_prob', 'QF_prob', 'SF_prob', 'Final_prob', 'W_prob', \\\n",
    "                                       'prob_to_win_R16', 'prob_to_win_QF', 'prob_to_win_SF','prob_to_win_Final', \\\n",
    "                                       'xG_R16', 'xG_QF', 'xG_SF', 'xG_Final','xGa_R16', 'xGa_QF', 'xGa_SF', 'xGa_Final']], on = \"country\")\n",
    "\n",
    "df_holdet[\"selected\"] = ~df_holdet['G'].isna()"
   ]
  },
  {
   "cell_type": "code",
   "execution_count": 28,
   "metadata": {},
   "outputs": [],
   "source": [
    "for country in df_holdet[\"country\"].unique():\n",
    "    xG_sum = df_holdet.loc[(df_holdet[\"country\"]==country) & (df_holdet[\"selected\"]),'G'].astype(float).sum()\n",
    "    xA_sum = df_holdet.loc[(df_holdet[\"country\"]==country) & (df_holdet[\"selected\"]),'A'].astype(float).sum()\n",
    "    df_holdet.loc[(df_holdet[\"country\"]==country) & (df_holdet[\"selected\"]),'G_share'] = df_holdet.loc[(df_holdet[\"country\"]==country) & (df_holdet[\"selected\"]),'G'].astype(float)/xG_sum\n",
    "    df_holdet.loc[(df_holdet[\"country\"]==country) & (df_holdet[\"selected\"]),'A_share'] = df_holdet.loc[(df_holdet[\"country\"]==country) & (df_holdet[\"selected\"]),'A'].astype(float)/xA_sum\n",
    "\n",
    "    df_holdet.loc[(df_holdet[\"country\"]==country) & (~df_holdet[\"selected\"]),\"E_points_total\"] = -5000\n",
    "    df_holdet.loc[(df_holdet[\"country\"]==country) & (~df_holdet[\"selected\"]),\"E_points_round1\"] = -5000\n",
    "    for player in df_holdet.loc[(df_holdet[\"country\"]==country) & (df_holdet[\"selected\"]),\"name1\"]:\n",
    "        points = 0\n",
    "        goal_share = df_holdet.loc[df_holdet[\"name1\"]==player,\"G_share\"].values[0]\n",
    "        assist_share = df_holdet.loc[df_holdet[\"name1\"]==player,\"A_share\"].values[0]\n",
    "        yellow_prob = df_holdet.loc[df_holdet[\"name1\"]==player,'Y'].astype(float).values[0]\n",
    "        red_prob = df_holdet.loc[df_holdet[\"name1\"]==player,'R'].astype(float).values[0]\n",
    "        # group games\n",
    "        loop = 4\n",
    "        for i in range(ROUND,loop):\n",
    "            points += 7000*(1/(i-ROUND+1))\n",
    "            points += df_holdet.loc[df_holdet[\"name1\"]==player,f'prob_winning_{i}'].values[0]*25000*(1/(i-ROUND+1))\n",
    "            points += df_holdet.loc[df_holdet[\"name1\"]==player,f'prob_draw_{i}'].values[0]*5000*(1/(i-ROUND+1))\n",
    "            points += df_holdet.loc[df_holdet[\"name1\"]==player,f'prob_lose_{i}'].values[0]*-15000*(1/(i-ROUND+1))\n",
    "            points += df_holdet.loc[df_holdet[\"name1\"]==player,f'E_goals_{i}'].values[0]*10000*(1/(i-ROUND+1))\n",
    "            points += df_holdet.loc[df_holdet[\"name1\"]==player,f'E_goals_against_{i}'].values[0]*-10000*(1/(i-ROUND+1))\n",
    "            points += yellow_prob * -20000*(1/(i-ROUND+1))\n",
    "            points += yellow_prob*yellow_prob*-20000*(1/(i-ROUND+1))\n",
    "            points += red_prob * -50000*(1/(i-ROUND+1))\n",
    "            if i == loop:\n",
    "                for idx, game in enumerate([\"R16\",\"QF\",\"SF\",\"Final\"]):\n",
    "                    prob = df_holdet.loc[df_holdet[\"name1\"]==player,f'{game}_prob'].values[0]\n",
    "                    factor = 1/(2*(loop+idx))\n",
    "                    points += 7000*factor\n",
    "                    points += prob*np.exp(-df_holdet.loc[df_holdet[\"name1\"]==player,f'xGa_{game}'].values[0])*-10000*factor\n",
    "                    points += prob*df_holdet.loc[df_holdet[\"name1\"]==player,f'prob_to_win_{game}'].values[0]*25000*factor\n",
    "                    points += prob*(1-df_holdet.loc[df_holdet[\"name1\"]==player,f'prob_to_win_{game}'].values[0])*-15000*factor\n",
    "                    points += prob*yellow_prob * -20000*factor\n",
    "                    points += prob*yellow_prob*yellow_prob*-20000*factor\n",
    "                    points += prob*df_holdet.loc[df_holdet[\"name1\"]==player,f'xG_{game}'].values[0]*10000*factor\n",
    "                    points += prob*red_prob * -50000*factor\n",
    "                    \n",
    "            if df_holdet.loc[df_holdet[\"name1\"]==player,\"position\"].values[0]==\"Mål\":\n",
    "                points += np.exp(-df_holdet.loc[df_holdet[\"name1\"]==player,f'E_goals_against_{i}'].values[0])*75000*(1/(i-ROUND+1))\n",
    "                if i == loop:\n",
    "                    for idx, game in enumerate([\"R16\",\"QF\",\"SF\",\"Final\"]):\n",
    "                        prob = df_holdet.loc[df_holdet[\"name1\"]==player,f'{game}_prob'].values[0]\n",
    "                        factor = 1/(2*(loop+idx))\n",
    "                        points += prob*np.exp(-df_holdet.loc[df_holdet[\"name1\"]==player,f'xGa_{game}'].values[0])*75000*factor\n",
    "                        \n",
    "            elif df_holdet.loc[df_holdet[\"name1\"]==player,\"position\"].values[0]==\"Forsvar\":\n",
    "                points += np.exp(-df_holdet.loc[df_holdet[\"name1\"]==player,f'E_goals_against_{i}'].values[0])*50000*(1/(i-ROUND+1))\n",
    "                points += goal_share*df_holdet.loc[df_holdet[\"name1\"]==player,f'E_goals_{i}'].values[0]*175000*(1/(i-ROUND+1))\n",
    "                points += assist_share*df_holdet.loc[df_holdet[\"name1\"]==player,f'E_goals_{i}'].values[0]*60000*(1/(i-ROUND+1))\n",
    "                if i == loop:\n",
    "                    for idx, game in enumerate([\"R16\",\"QF\",\"SF\",\"Final\"]):\n",
    "                        prob = df_holdet.loc[df_holdet[\"name1\"]==player,f'{game}_prob'].values[0]\n",
    "                        factor = 1/(2*(loop+idx))\n",
    "                        points += prob*np.exp(-df_holdet.loc[df_holdet[\"name1\"]==player,f'xG_{game}'].values[0])*50000*factor\n",
    "                        points += prob*goal_share*np.exp(-df_holdet.loc[df_holdet[\"name1\"]==player,f'xG_{game}'].values[0])*175000*factor\n",
    "                        points += prob*assist_share*np.exp(-df_holdet.loc[df_holdet[\"name1\"]==player,f'xG_{game}'].values[0])*60000*factor\n",
    "                        \n",
    "            elif df_holdet.loc[df_holdet[\"name1\"]==player,\"position\"].values[0]==\"Midtbane\":\n",
    "                points += goal_share*df_holdet.loc[df_holdet[\"name1\"]==player,f'E_goals_{i}'].values[0]*150000*(1/(i-ROUND+1))\n",
    "                points += assist_share*df_holdet.loc[df_holdet[\"name1\"]==player,f'E_goals_{i}'].values[0]*60000*(1/(i-ROUND+1))\n",
    "                if i == loop:\n",
    "                    for idx, game in enumerate([\"R16\",\"QF\",\"SF\",\"Final\"]):\n",
    "                        prob = df_holdet.loc[df_holdet[\"name1\"]==player,f'{game}_prob'].values[0]\n",
    "                        factor = 1/(2*(loop+idx))\n",
    "                        points += prob*goal_share*np.exp(-df_holdet.loc[df_holdet[\"name1\"]==player,f'xG_{game}'].values[0])*150000*factor\n",
    "                        points += prob*assist_share*np.exp(-df_holdet.loc[df_holdet[\"name1\"]==player,f'xG_{game}'].values[0])*60000*factor\n",
    "                        \n",
    "            elif df_holdet.loc[df_holdet[\"name1\"]==player,\"position\"].values[0]==\"Angreb\":\n",
    "                points += goal_share*df_holdet.loc[df_holdet[\"name1\"]==player,f'E_goals_{i}'].values[0]*125000*(1/(i-ROUND+1))\n",
    "                points += assist_share*df_holdet.loc[df_holdet[\"name1\"]==player,f'E_goals_{i}'].values[0]*60000*(1/(i-ROUND+1))\n",
    "                if i == loop:\n",
    "                    for idx, game in enumerate([\"R16\",\"QF\",\"SF\",\"Final\"]):\n",
    "                        prob = df_holdet.loc[df_holdet[\"name1\"]==player,f'{game}_prob'].values[0]\n",
    "                        factor = 1/(2*(loop+idx))\n",
    "                        points += prob*goal_share*np.exp(-df_holdet.loc[df_holdet[\"name1\"]==player,f'xG_{game}'].values[0])*125000*factor\n",
    "                        points += prob*assist_share*np.exp(-df_holdet.loc[df_holdet[\"name1\"]==player,f'xG_{game}'].values[0])*60000*factor\n",
    "            if i == ROUND:\n",
    "                df_holdet.loc[df_holdet[\"name1\"]==player,\"E_points_round1\"] = points\n",
    "        df_holdet.loc[df_holdet[\"name1\"]==player,\"E_points_total\"] = points"
   ]
  },
  {
   "cell_type": "code",
   "execution_count": 30,
   "metadata": {},
   "outputs": [],
   "source": [
    "df_holdet.to_csv(\"common/ressources/df_holdet\", index = False)"
   ]
  },
  {
   "cell_type": "code",
   "execution_count": 18,
   "metadata": {},
   "outputs": [
    {
     "data": {
      "text/plain": [
       "286    2.203827\n",
       "287    2.203827\n",
       "289    2.203827\n",
       "290    2.203827\n",
       "291    2.203827\n",
       "293    2.203827\n",
       "294    2.203827\n",
       "300    2.203827\n",
       "302    2.203827\n",
       "303    2.203827\n",
       "306    2.203827\n",
       "Name: E_goals_1, dtype: float64"
      ]
     },
     "execution_count": 18,
     "metadata": {},
     "output_type": "execute_result"
    }
   ],
   "source": [
    "df_holdet[(df_holdet[\"country\"]==\"Danmark\") & (~df_holdet[\"MIN\"].isna())]"
   ]
  },
  {
   "cell_type": "code",
   "execution_count": 15,
   "metadata": {},
   "outputs": [
    {
     "data": {
      "text/plain": [
       "352"
      ]
     },
     "execution_count": 15,
     "metadata": {},
     "output_type": "execute_result"
    }
   ],
   "source": [
    "11*4*8"
   ]
  },
  {
   "cell_type": "code",
   "execution_count": 14,
   "metadata": {},
   "outputs": [
    {
     "data": {
      "text/plain": [
       "350"
      ]
     },
     "execution_count": 14,
     "metadata": {},
     "output_type": "execute_result"
    }
   ],
   "source": [
    "(~df_holdet[\"MIN\"].isna()).sum()"
   ]
  },
  {
   "cell_type": "code",
   "execution_count": 31,
   "metadata": {},
   "outputs": [
    {
     "data": {
      "text/plain": [
       "AUS    11\n",
       "POR    11\n",
       "IRN    11\n",
       "QAT    11\n",
       "MAR    11\n",
       "KOR    11\n",
       "SEN    11\n",
       "SRB    11\n",
       "CMR    11\n",
       "JPN    11\n",
       "SUI    11\n",
       "CAN    11\n",
       "DEN    11\n",
       "KSA    11\n",
       "CRO    11\n",
       "ENG    11\n",
       "ECU    11\n",
       "TUN    11\n",
       "CRC    11\n",
       "BEL    11\n",
       "ARG    11\n",
       "MEX    10\n",
       "WAL    10\n",
       "BRA    10\n",
       "URU    10\n",
       "GHA    10\n",
       "ESP     9\n",
       "GER     9\n",
       "POL     9\n",
       "NED     8\n",
       "USA     8\n",
       "FRA     7\n",
       "Name: Team, dtype: int64"
      ]
     },
     "execution_count": 31,
     "metadata": {},
     "output_type": "execute_result"
    }
   ],
   "source": [
    "df_rw[\"Team\"].value_counts()"
   ]
  }
 ],
 "metadata": {
  "kernelspec": {
   "display_name": "Python 3.7.9 64-bit",
   "language": "python",
   "name": "python3"
  },
  "language_info": {
   "codemirror_mode": {
    "name": "ipython",
    "version": 3
   },
   "file_extension": ".py",
   "mimetype": "text/x-python",
   "name": "python",
   "nbconvert_exporter": "python",
   "pygments_lexer": "ipython3",
   "version": "3.7.9"
  },
  "orig_nbformat": 4,
  "vscode": {
   "interpreter": {
    "hash": "548bebda6a0db2652a689e304cb19a8a55293bc3af81438106940bc6d9b9dcf4"
   }
  }
 },
 "nbformat": 4,
 "nbformat_minor": 2
}
