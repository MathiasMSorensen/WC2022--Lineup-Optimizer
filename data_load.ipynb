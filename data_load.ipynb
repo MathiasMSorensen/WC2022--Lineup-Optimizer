{
 "cells": [
  {
   "cell_type": "code",
   "execution_count": 329,
   "metadata": {},
   "outputs": [
    {
     "name": "stdout",
     "output_type": "stream",
     "text": [
      "The autoreload extension is already loaded. To reload it, use:\n",
      "  %reload_ext autoreload\n"
     ]
    }
   ],
   "source": [
    "%load_ext autoreload\n",
    "%autoreload 2\n",
    "\n",
    "import os\n",
    "import oddsapi\n",
    "import requests\n",
    "import joblib\n",
    "import pandas as pd\n",
    "import numpy as np\n",
    "from common.utils.odds_utils import get_tournament_winner_odds, get_group_stage_odds, get_group_stage_OU\n",
    "from common.utils.holdet_utils import get_holdet_data, get_play_off_opps\n",
    "from common.utils.simulation_utils import WorldCupTeam, WorldCupSim\n",
    "from common.utils.dict_utils import eng2dan\n",
    "from scipy.optimize import fsolve\n",
    "\n",
    "API_KEY = os.getenv(\"API_KEY\")"
   ]
  },
  {
   "cell_type": "code",
   "execution_count": 464,
   "metadata": {},
   "outputs": [],
   "source": [
    "df_holdet = get_holdet_data()\n",
    "# df_winner = get_tournament_winner_odds(API_KEY)\n",
    "# df_group_stage = get_group_stage_odds(API_KEY)\n",
    "# df_get_group_stage_OU = get_group_stage_OU(API_KEY)\n",
    "# df_groups = pd.read_csv(\"common/ressources/df_groups.csv\")[[\"Team\",\"group\"]]\n",
    "# df_group_stage = df_group_stage[['home_team','away_team','prob1','probx', 'prob2']].merge(df_groups.rename(columns =  {\"Team\":\"home_team\"}), on = \"home_team\")"
   ]
  },
  {
   "cell_type": "code",
   "execution_count": 193,
   "metadata": {},
   "outputs": [],
   "source": [
    "import scipy.optimize as opt\n",
    "import math\n",
    "\n",
    "def func(zGuess, _lambda):\n",
    "    val = _lambda\n",
    "    x = zGuess\n",
    "    eq_1 = math.exp(-x)+math.exp(-x)*x+(math.exp(-x)*x**2)/2-val \n",
    "    return eq_1[0]\n",
    "\n",
    "zGuess = 2.4\n",
    "df_get_group_stage_OU['lambda']= df_get_group_stage_OU['prob_under'].apply(lambda x: opt.fsolve(func,zGuess,args=(x))[0])\n",
    "df_get_group_stage_OU['xG'] = df_get_group_stage_OU['lambda']"
   ]
  },
  {
   "cell_type": "code",
   "execution_count": 194,
   "metadata": {},
   "outputs": [],
   "source": [
    "df_group_stage = df_group_stage.merge(df_get_group_stage_OU[['home_team','away_team','xG']], on = ['home_team','away_team'])\n",
    "df_group_stage[\"xGH\"] = df_group_stage[\"xG\"]*df_group_stage[\"prob1\"]/(df_group_stage[\"prob1\"]+df_group_stage[\"prob2\"])\n",
    "df_group_stage[\"xGA\"] = df_group_stage[\"xG\"]*df_group_stage[\"prob2\"]/(df_group_stage[\"prob1\"]+df_group_stage[\"prob2\"])"
   ]
  },
  {
   "cell_type": "code",
   "execution_count": 195,
   "metadata": {},
   "outputs": [],
   "source": [
    "df_schedule = pd.read_csv(\"common/ressources/schedule.csv\")\n",
    "df_schedule.rename(columns = {\"Home Team\":\"home_team\", \"Away Team\":\"away_team\", \"Round Number\":\"round\"}, inplace = True)\n",
    "df_schedule.loc[(df_schedule[\"home_team\"]==\"Korea Republic\"),\"home_team\"]=\"South_Korea\"\n",
    "df_schedule.loc[(df_schedule[\"away_team\"]==\"Korea Republic\"),\"away_team\"]=\"South_Korea\"\n",
    "df_group_stage.loc[(df_group_stage[\"home_team\"]==\"South Korea\"),\"home_team\"]=\"South_Korea\"\n",
    "df_group_stage.loc[(df_group_stage[\"away_team\"]==\"South Korea\"),\"away_team\"]=\"South_Korea\"\n",
    "df_group_stage = df_group_stage.merge(df_schedule[[\"home_team\",\"away_team\",\"round\"]], on = ['home_team','away_team'])\n",
    "df_group_stage.sort_values(\"round\", inplace=True)\n",
    "df_group_stage.reset_index(drop=True, inplace = True)"
   ]
  },
  {
   "cell_type": "code",
   "execution_count": 465,
   "metadata": {},
   "outputs": [],
   "source": [
    "df_holdet[\"selected\"]=False\n",
    "for team in df_holdet[\"country\"].unique():\n",
    "    df_temp = df_holdet[df_holdet[\"country\"]==team]\n",
    "    df_temp.sort_values(\"price\", ascending = False)\n",
    "    df_holdet.loc[df_holdet[\"name1\"].isin(df_temp.reset_index().loc[0:11,\"name1\"]),\"selected\"]=True"
   ]
  },
  {
   "cell_type": "code",
   "execution_count": 466,
   "metadata": {},
   "outputs": [],
   "source": [
    "df_holdet[\"G\"] = np.random.uniform(0,1,len(df_holdet))\n",
    "df_holdet[\"A\"] = np.random.uniform(0,1,len(df_holdet))\n",
    "df_holdet[\"Yellow\"] = np.random.uniform(0,1,len(df_holdet))\n",
    "df_holdet[\"Red\"] = np.random.uniform(0,1,len(df_holdet))"
   ]
  },
  {
   "cell_type": "code",
   "execution_count": 204,
   "metadata": {},
   "outputs": [],
   "source": [
    "# __df_group_stage = df_group_stage.copy()\n",
    "df_group_stage = __df_group_stage.copy()"
   ]
  },
  {
   "cell_type": "code",
   "execution_count": 205,
   "metadata": {},
   "outputs": [],
   "source": [
    "df_group_stage[\"home_team\"] = df_group_stage[\"home_team\"].apply(lambda x: eng2dan[x])\n",
    "df_group_stage[\"away_team\"] = df_group_stage[\"away_team\"].apply(lambda x: eng2dan[x])"
   ]
  },
  {
   "cell_type": "code",
   "execution_count": 218,
   "metadata": {},
   "outputs": [
    {
     "data": {
      "text/plain": [
       "845"
      ]
     },
     "execution_count": 218,
     "metadata": {},
     "output_type": "execute_result"
    }
   ],
   "source": [
    "# _df_holdet = df_holdet.copy()\n",
    "# _df_group_stage = df_group_stage.copy()\n",
    "df_holdet = _df_holdet.copy()\n",
    "df_group_stage = _df_group_stage.copy()\n",
    "len(df_holdet)"
   ]
  },
  {
   "cell_type": "code",
   "execution_count": 467,
   "metadata": {},
   "outputs": [],
   "source": [
    "for round in [\"1\",\"2\",\"3\"]:\n",
    "    df_temp1 = df_holdet[[\"name1\",\"name2\",\"country\"]].merge(df_group_stage.loc[df_group_stage[\"round\"]==round,[\"home_team\",\"prob1\",\"probx\",\"prob2\",\"xGH\",\"xGA\"]].rename(columns = {\"home_team\":\"country\"}), on = \"country\")\n",
    "    df_temp1.rename(columns = {\"prob1\":f\"prob_winning_{round}\",\"probx\":f\"prob_draw_{round}\",\"prob2\":f\"prob_lose_{round}\",\"xGH\":f\"E_goals_{round}\",\"xGA\":f\"E_goals_against_{round}\"}, inplace = True)\n",
    "\n",
    "    df_temp2 = df_holdet[[\"name1\",\"name2\",\"country\"]].merge(df_group_stage.loc[df_group_stage[\"round\"]==round,[\"away_team\",\"prob1\",\"probx\",\"prob2\",\"xGH\",\"xGA\"]].rename(columns = {\"away_team\":\"country\"}), on = \"country\")\n",
    "    df_temp2.rename(columns = {\"prob1\":f\"prob_lose_{round}\",\"probx\":f\"prob_draw_{round}\",\"prob2\":f\"prob_winning_{round}\",\"xGA\":f\"E_goals_{round}\",\"xGH\":f\"E_goals_against_{round}\"}, inplace = True)\n",
    "\n",
    "    df_temp_temp = pd.concat([df_temp1,df_temp2],axis=0)\n",
    "    df_holdet = df_holdet.merge(df_temp_temp, on = [\"name1\",\"name2\",\"country\"])"
   ]
  },
  {
   "cell_type": "code",
   "execution_count": 455,
   "metadata": {},
   "outputs": [],
   "source": [
    "df_winner[\"name\"] = df_winner[\"name\"].replace(\"South Korea\",\"South_Korea\")\n",
    "df_winner[\"country\"] = df_winner[\"name\"].apply(lambda x: eng2dan[x])"
   ]
  },
  {
   "cell_type": "code",
   "execution_count": 456,
   "metadata": {},
   "outputs": [],
   "source": [
    "temp_list = []\n",
    "for team in df_group_stage[\"home_team\"].unique():\n",
    "    xG, pwin, xGa = 0, 0, 0\n",
    "    xG += df_group_stage.loc[df_group_stage[\"home_team\"]==team,\"xGH\"].values[0]\n",
    "    xGa += df_group_stage.loc[df_group_stage[\"home_team\"]==team,\"xGA\"].values[0]\n",
    "    pwin += (df_group_stage.loc[df_group_stage[\"home_team\"]==team,\"prob1\"]/(df_group_stage.loc[df_group_stage[\"home_team\"]==team,[\"prob1\",\"prob2\"]].sum(axis=1))).sum()\n",
    "    xG += df_group_stage.loc[df_group_stage[\"away_team\"]==team,\"xGA\"].values[0]\n",
    "    xGa += df_group_stage.loc[df_group_stage[\"away_team\"]==team,\"xGH\"].values[0]\n",
    "    pwin += (df_group_stage.loc[df_group_stage[\"away_team\"]==team,\"prob2\"]/(df_group_stage.loc[df_group_stage[\"away_team\"]==team,[\"prob1\",\"prob2\"]].sum(axis=1))).sum()\n",
    "    temp_list.append([team, xG/3, pwin/3, xGa/3])\n",
    "    \n",
    "df_temp = pd.DataFrame(temp_list)\n",
    "df_temp.columns = [\"country\",\"xG\",\"pwin\", \"xGa\"]\n",
    "df_winner = df_winner.merge(df_temp, on = \"country\")"
   ]
  },
  {
   "cell_type": "code",
   "execution_count": 457,
   "metadata": {},
   "outputs": [],
   "source": [
    "sims = joblib.load(\"common/ressources/sims\")\n",
    "df_winner[\"name\"] = df_winner[\"name\"].replace(\"South_Korea\",\"South Korea\")\n",
    "for country in df_winner[\"name\"]:\n",
    "    R16, QF, SF, Final = get_play_off_opps(country, sims)\n",
    "    df_winner.loc[(df_winner[\"name\"]==country),\"R16\"] = R16\n",
    "    df_winner.loc[(df_winner[\"name\"]==country),\"QF\"] = QF\n",
    "    df_winner.loc[(df_winner[\"name\"]==country),\"SF\"] = SF\n",
    "    df_winner.loc[(df_winner[\"name\"]==country),\"Final\"] = Final\n",
    "    \n",
    "df_grid = pd.read_csv(\"common/ressources/df_grid\")\n",
    "df_grid.columns = [\"name\", \"R16_prob\", \"QF_prob\", \"SF_prob\" ,\"F_prob\",\"W_prob\"]\n",
    "df_winner = df_winner.merge(df_grid, on = \"name\")"
   ]
  },
  {
   "cell_type": "code",
   "execution_count": 458,
   "metadata": {},
   "outputs": [],
   "source": [
    "df_winner[\"Final\"] = df_winner[\"Final\"].replace(\"null\",\"Argentina\")\n",
    "for country in df_winner[\"name\"]:\n",
    "    df_winner.loc[df_winner[\"name\"]==country,\"prob_to_win_R16\"] = df_winner.loc[df_winner[\"name\"] == df_winner.loc[df_winner[\"name\"]==country,\"R16\"].values[0],\"prob_to_win\"].values[0]\n",
    "    df_winner.loc[df_winner[\"name\"]==country,\"prob_to_win_QF\"] = df_winner.loc[df_winner[\"name\"] == df_winner.loc[df_winner[\"name\"]==country,\"QF\"].values[0],\"prob_to_win\"].values[0]\n",
    "    df_winner.loc[df_winner[\"name\"]==country,\"prob_to_win_SF\"] = df_winner.loc[df_winner[\"name\"] == df_winner.loc[df_winner[\"name\"]==country,\"SF\"].values[0],\"prob_to_win\"].values[0]\n",
    "    df_winner.loc[df_winner[\"name\"]==country,\"prob_to_win_Final\"] = df_winner.loc[df_winner[\"name\"] == df_winner.loc[df_winner[\"name\"]==country,\"Final\"].values[0],\"prob_to_win\"].values[0]\n",
    "\n",
    "df_winner[\"prob_to_win_R16\"] = df_winner[\"prob_to_win\"]/(df_winner[\"prob_to_win_R16\"]+df_winner[\"prob_to_win\"])\n",
    "df_winner[\"prob_to_win_QF\"] = df_winner[\"prob_to_win\"]/(df_winner[\"prob_to_win_QF\"]+df_winner[\"prob_to_win\"])\n",
    "df_winner[\"prob_to_win_SF\"] = df_winner[\"prob_to_win\"]/(df_winner[\"prob_to_win_SF\"]+df_winner[\"prob_to_win\"])\n",
    "df_winner[\"prob_to_win_Final\"] = df_winner[\"prob_to_win\"]/(df_winner[\"prob_to_win_Final\"]+df_winner[\"prob_to_win\"])\n",
    "\n",
    "df_winner[\"xG_R16\"] = df_winner[\"prob_to_win_R16\"]/df_winner[\"pwin\"]*df_winner[\"xG\"]\n",
    "df_winner[\"xG_QF\"] = df_winner[\"prob_to_win_QF\"]/df_winner[\"pwin\"]*df_winner[\"xG\"]\n",
    "df_winner[\"xG_SF\"] = df_winner[\"prob_to_win_SF\"]/df_winner[\"pwin\"]*df_winner[\"xG\"]\n",
    "df_winner[\"xG_Final\"] = df_winner[\"prob_to_win_Final\"]/df_winner[\"pwin\"]*df_winner[\"xG\"]\n",
    "\n",
    "df_winner[\"xGa_R16\"] = df_winner[\"prob_to_win_R16\"]/df_winner[\"pwin\"]*df_winner[\"xGa\"]\n",
    "df_winner[\"xGa_QF\"] = df_winner[\"prob_to_win_QF\"]/df_winner[\"pwin\"]*df_winner[\"xGa\"]\n",
    "df_winner[\"xGa_SF\"] = df_winner[\"prob_to_win_SF\"]/df_winner[\"pwin\"]*df_winner[\"xGa\"]\n",
    "df_winner[\"xGa_Final\"] = df_winner[\"prob_to_win_Final\"]/df_winner[\"pwin\"]*df_winner[\"xGa\"]\n",
    "df_winner.to_csv(\"common/ressources/df_winner\", index = False)"
   ]
  },
  {
   "cell_type": "code",
   "execution_count": 474,
   "metadata": {},
   "outputs": [],
   "source": [
    "df_holdet = df_holdet.merge(df_winner[['country','R16_prob', 'QF_prob', 'SF_prob', 'F_prob', 'W_prob',\n",
    "                                       'prob_to_win_R16', 'prob_to_win_QF', 'prob_to_win_SF','prob_to_win_Final', \n",
    "                                       'xG_R16', 'xG_QF', 'xG_SF', 'xG_Final','xGa_R16', 'xGa_QF', 'xGa_SF', 'xGa_Final']], on = \"country\")"
   ]
  },
  {
   "cell_type": "code",
   "execution_count": 520,
   "metadata": {},
   "outputs": [],
   "source": [
    "for country in df_holdet[\"country\"].unique():\n",
    "    xG_sum = df_holdet.loc[(df_holdet[\"country\"]==country) & (df_holdet[\"selected\"]),'G'].sum()\n",
    "    xA_sum = df_holdet.loc[(df_holdet[\"country\"]==country) & (df_holdet[\"selected\"]),'A'].sum()\n",
    "    df_holdet.loc[(df_holdet[\"country\"]==country) & (df_holdet[\"selected\"]),'G_share'] = df_holdet.loc[(df_holdet[\"country\"]==country) & (df_holdet[\"selected\"]),'G']/xG_sum\n",
    "    df_holdet.loc[(df_holdet[\"country\"]==country) & (df_holdet[\"selected\"]),'A_share'] = df_holdet.loc[(df_holdet[\"country\"]==country) & (df_holdet[\"selected\"]),'G']/xA_sum\n",
    "\n",
    "    df_holdet.loc[(df_holdet[\"country\"]==country) & (~df_holdet[\"selected\"]),\"Exptectred_points\"] = -5000\n",
    "    for player in df_holdet.loc[(df_holdet[\"country\"]==country) & (df_holdet[\"selected\"]),\"name1\"]:\n",
    "        points = 7000\n",
    "        # group games\n",
    "        for i in range(1,4):\n",
    "            points += df_holdet.loc[df_holdet[\"name1\"]==player,f'prob_winning_{i}'].values[0]*25000**(1/i)\n",
    "            points += df_holdet.loc[df_holdet[\"name1\"]==player,f'prob_draw_{i}'].values[0]*5000**(1/i)\n",
    "            points += df_holdet.loc[df_holdet[\"name1\"]==player,f'prob_lose_{i}'].values[0]*-15000**(1/i)\n",
    "            points += df_holdet.loc[df_holdet[\"name1\"]==player,f'E_goals_{i}'].values[0]*10000**(1/i)\n",
    "            points += df_holdet.loc[df_holdet[\"name1\"]==player,f'E_goals_against_{i}'].values[0]*-10000**(1/i)\n",
    "            points += df_holdet.loc[df_holdet[\"name1\"]==player,f'Yellow'].values[0] * -20000**(1/i)\n",
    "            points += df_holdet.loc[df_holdet[\"name1\"]==player,f'Yellow'].values[0]*df_holdet.loc[df_holdet[\"name1\"]==player,f'Yellow'].values[0]*-20000**(1/i)\n",
    "            points += df_holdet.loc[df_holdet[\"name1\"]==player,f'Red'].values[0] * -20000**(1/i)\n",
    "            if df_holdet.loc[df_holdet[\"name1\"]==player,\"position\"].values[0]==\"Mål\":\n",
    "                points += np.exp(df_holdet.loc[df_holdet[\"name1\"]==player,f'E_goals_against_{i}'].values[0])*75000**(1/i)\n",
    "                \n",
    "            elif df_holdet.loc[df_holdet[\"name1\"]==player,\"position\"].values[0]==\"Forsvar\":\n",
    "                points += np.exp(df_holdet.loc[df_holdet[\"name1\"]==player,f'E_goals_against_{i}'].values[0])*50000**(1/i)\n",
    "                points += df_holdet.loc[df_holdet[\"name1\"]==player,\"G_share\"].values[0]*df_holdet.loc[df_holdet[\"name1\"]==player,f'E_goals_{i}'].values[0]*175000**(1/i)\n",
    "                points += df_holdet.loc[df_holdet[\"name1\"]==player,\"A_share\"].values[0]*df_holdet.loc[df_holdet[\"name1\"]==player,f'E_goals_{i}'].values[0]*60000**(1/i)\n",
    "            \n",
    "            elif df_holdet.loc[df_holdet[\"name1\"]==player,\"position\"].values[0]==\"Midtbane\":\n",
    "                points += df_holdet.loc[df_holdet[\"name1\"]==player,\"G_share\"].values[0]*df_holdet.loc[df_holdet[\"name1\"]==player,f'E_goals_{i}'].values[0]*150000**(1/i)\n",
    "                points += df_holdet.loc[df_holdet[\"name1\"]==player,\"A_share\"].values[0]*df_holdet.loc[df_holdet[\"name1\"]==player,f'E_goals_{i}'].values[0]*60000**(1/i)\n",
    "            \n",
    "            elif df_holdet.loc[df_holdet[\"name1\"]==player,\"position\"].values[0]==\"Angreb\":\n",
    "                points += df_holdet.loc[df_holdet[\"name1\"]==player,\"G_share\"].values[0]*df_holdet.loc[df_holdet[\"name1\"]==player,f'E_goals_{i}'].values[0]*125000**(1/i)\n",
    "                points += df_holdet.loc[df_holdet[\"name1\"]==player,\"A_share\"].values[0]*df_holdet.loc[df_holdet[\"name1\"]==player,f'E_goals_{i}'].values[0]*60000**(1/i)\n",
    "        \n",
    "        df_holdet.loc[df_holdet[\"name1\"]==player,\"Exptectred_points\"] = points"
   ]
  },
  {
   "cell_type": "code",
   "execution_count": 524,
   "metadata": {},
   "outputs": [],
   "source": [
    "df_holdet.to_csv(\"df_holdet\",index=False)"
   ]
  }
 ],
 "metadata": {
  "kernelspec": {
   "display_name": "Python 3.7.9 64-bit",
   "language": "python",
   "name": "python3"
  },
  "language_info": {
   "codemirror_mode": {
    "name": "ipython",
    "version": 3
   },
   "file_extension": ".py",
   "mimetype": "text/x-python",
   "name": "python",
   "nbconvert_exporter": "python",
   "pygments_lexer": "ipython3",
   "version": "3.7.9"
  },
  "orig_nbformat": 4,
  "vscode": {
   "interpreter": {
    "hash": "548bebda6a0db2652a689e304cb19a8a55293bc3af81438106940bc6d9b9dcf4"
   }
  }
 },
 "nbformat": 4,
 "nbformat_minor": 2
}
